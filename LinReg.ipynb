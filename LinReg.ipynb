{
  "nbformat": 4,
  "nbformat_minor": 0,
  "metadata": {
    "colab": {
      "provenance": [],
      "authorship_tag": "ABX9TyO6eJPooifQKqGjoGw0Sh9K",
      "include_colab_link": true
    },
    "kernelspec": {
      "name": "python3",
      "display_name": "Python 3"
    },
    "language_info": {
      "name": "python"
    }
  },
  "cells": [
    {
      "cell_type": "markdown",
      "metadata": {
        "id": "view-in-github",
        "colab_type": "text"
      },
      "source": [
        "<a href=\"https://colab.research.google.com/github/sripragnabitra/supervised-machlearning/blob/main/LinReg.ipynb\" target=\"_parent\"><img src=\"https://colab.research.google.com/assets/colab-badge.svg\" alt=\"Open In Colab\"/></a>"
      ]
    },
    {
      "cell_type": "markdown",
      "source": [
        "How does temperature affect cricket chirps?"
      ],
      "metadata": {
        "id": "WgvCR7NCAciw"
      }
    },
    {
      "cell_type": "code",
      "execution_count": null,
      "metadata": {
        "colab": {
          "base_uri": "https://localhost:8080/",
          "height": 423
        },
        "id": "3Ek_i_rkAOnB",
        "outputId": "5dd1f853-87f5-4a6a-f42e-04d34469689c"
      },
      "outputs": [
        {
          "output_type": "execute_result",
          "data": {
            "text/plain": [
              "              X   Y\n",
              "0     88.599998  19\n",
              "1     71.599998  16\n",
              "2     93.300003  22\n",
              "3     84.300003  17\n",
              "4     80.599998  19\n",
              "...         ...  ..\n",
              "1494  81.000000  17\n",
              "1495  81.000000  17\n",
              "1496  86.000000  17\n",
              "1497  83.000000  20\n",
              "1498  72.000000  16\n",
              "\n",
              "[1499 rows x 2 columns]"
            ],
            "text/html": [
              "\n",
              "  <div id=\"df-97faa39e-ef4d-4480-bfc4-dc013bfaf12a\">\n",
              "    <div class=\"colab-df-container\">\n",
              "      <div>\n",
              "<style scoped>\n",
              "    .dataframe tbody tr th:only-of-type {\n",
              "        vertical-align: middle;\n",
              "    }\n",
              "\n",
              "    .dataframe tbody tr th {\n",
              "        vertical-align: top;\n",
              "    }\n",
              "\n",
              "    .dataframe thead th {\n",
              "        text-align: right;\n",
              "    }\n",
              "</style>\n",
              "<table border=\"1\" class=\"dataframe\">\n",
              "  <thead>\n",
              "    <tr style=\"text-align: right;\">\n",
              "      <th></th>\n",
              "      <th>X</th>\n",
              "      <th>Y</th>\n",
              "    </tr>\n",
              "  </thead>\n",
              "  <tbody>\n",
              "    <tr>\n",
              "      <th>0</th>\n",
              "      <td>88.599998</td>\n",
              "      <td>19</td>\n",
              "    </tr>\n",
              "    <tr>\n",
              "      <th>1</th>\n",
              "      <td>71.599998</td>\n",
              "      <td>16</td>\n",
              "    </tr>\n",
              "    <tr>\n",
              "      <th>2</th>\n",
              "      <td>93.300003</td>\n",
              "      <td>22</td>\n",
              "    </tr>\n",
              "    <tr>\n",
              "      <th>3</th>\n",
              "      <td>84.300003</td>\n",
              "      <td>17</td>\n",
              "    </tr>\n",
              "    <tr>\n",
              "      <th>4</th>\n",
              "      <td>80.599998</td>\n",
              "      <td>19</td>\n",
              "    </tr>\n",
              "    <tr>\n",
              "      <th>...</th>\n",
              "      <td>...</td>\n",
              "      <td>...</td>\n",
              "    </tr>\n",
              "    <tr>\n",
              "      <th>1494</th>\n",
              "      <td>81.000000</td>\n",
              "      <td>17</td>\n",
              "    </tr>\n",
              "    <tr>\n",
              "      <th>1495</th>\n",
              "      <td>81.000000</td>\n",
              "      <td>17</td>\n",
              "    </tr>\n",
              "    <tr>\n",
              "      <th>1496</th>\n",
              "      <td>86.000000</td>\n",
              "      <td>17</td>\n",
              "    </tr>\n",
              "    <tr>\n",
              "      <th>1497</th>\n",
              "      <td>83.000000</td>\n",
              "      <td>20</td>\n",
              "    </tr>\n",
              "    <tr>\n",
              "      <th>1498</th>\n",
              "      <td>72.000000</td>\n",
              "      <td>16</td>\n",
              "    </tr>\n",
              "  </tbody>\n",
              "</table>\n",
              "<p>1499 rows × 2 columns</p>\n",
              "</div>\n",
              "      <button class=\"colab-df-convert\" onclick=\"convertToInteractive('df-97faa39e-ef4d-4480-bfc4-dc013bfaf12a')\"\n",
              "              title=\"Convert this dataframe to an interactive table.\"\n",
              "              style=\"display:none;\">\n",
              "        \n",
              "  <svg xmlns=\"http://www.w3.org/2000/svg\" height=\"24px\"viewBox=\"0 0 24 24\"\n",
              "       width=\"24px\">\n",
              "    <path d=\"M0 0h24v24H0V0z\" fill=\"none\"/>\n",
              "    <path d=\"M18.56 5.44l.94 2.06.94-2.06 2.06-.94-2.06-.94-.94-2.06-.94 2.06-2.06.94zm-11 1L8.5 8.5l.94-2.06 2.06-.94-2.06-.94L8.5 2.5l-.94 2.06-2.06.94zm10 10l.94 2.06.94-2.06 2.06-.94-2.06-.94-.94-2.06-.94 2.06-2.06.94z\"/><path d=\"M17.41 7.96l-1.37-1.37c-.4-.4-.92-.59-1.43-.59-.52 0-1.04.2-1.43.59L10.3 9.45l-7.72 7.72c-.78.78-.78 2.05 0 2.83L4 21.41c.39.39.9.59 1.41.59.51 0 1.02-.2 1.41-.59l7.78-7.78 2.81-2.81c.8-.78.8-2.07 0-2.86zM5.41 20L4 18.59l7.72-7.72 1.47 1.35L5.41 20z\"/>\n",
              "  </svg>\n",
              "      </button>\n",
              "      \n",
              "  <style>\n",
              "    .colab-df-container {\n",
              "      display:flex;\n",
              "      flex-wrap:wrap;\n",
              "      gap: 12px;\n",
              "    }\n",
              "\n",
              "    .colab-df-convert {\n",
              "      background-color: #E8F0FE;\n",
              "      border: none;\n",
              "      border-radius: 50%;\n",
              "      cursor: pointer;\n",
              "      display: none;\n",
              "      fill: #1967D2;\n",
              "      height: 32px;\n",
              "      padding: 0 0 0 0;\n",
              "      width: 32px;\n",
              "    }\n",
              "\n",
              "    .colab-df-convert:hover {\n",
              "      background-color: #E2EBFA;\n",
              "      box-shadow: 0px 1px 2px rgba(60, 64, 67, 0.3), 0px 1px 3px 1px rgba(60, 64, 67, 0.15);\n",
              "      fill: #174EA6;\n",
              "    }\n",
              "\n",
              "    [theme=dark] .colab-df-convert {\n",
              "      background-color: #3B4455;\n",
              "      fill: #D2E3FC;\n",
              "    }\n",
              "\n",
              "    [theme=dark] .colab-df-convert:hover {\n",
              "      background-color: #434B5C;\n",
              "      box-shadow: 0px 1px 3px 1px rgba(0, 0, 0, 0.15);\n",
              "      filter: drop-shadow(0px 1px 2px rgba(0, 0, 0, 0.3));\n",
              "      fill: #FFFFFF;\n",
              "    }\n",
              "  </style>\n",
              "\n",
              "      <script>\n",
              "        const buttonEl =\n",
              "          document.querySelector('#df-97faa39e-ef4d-4480-bfc4-dc013bfaf12a button.colab-df-convert');\n",
              "        buttonEl.style.display =\n",
              "          google.colab.kernel.accessAllowed ? 'block' : 'none';\n",
              "\n",
              "        async function convertToInteractive(key) {\n",
              "          const element = document.querySelector('#df-97faa39e-ef4d-4480-bfc4-dc013bfaf12a');\n",
              "          const dataTable =\n",
              "            await google.colab.kernel.invokeFunction('convertToInteractive',\n",
              "                                                     [key], {});\n",
              "          if (!dataTable) return;\n",
              "\n",
              "          const docLinkHtml = 'Like what you see? Visit the ' +\n",
              "            '<a target=\"_blank\" href=https://colab.research.google.com/notebooks/data_table.ipynb>data table notebook</a>'\n",
              "            + ' to learn more about interactive tables.';\n",
              "          element.innerHTML = '';\n",
              "          dataTable['output_type'] = 'display_data';\n",
              "          await google.colab.output.renderOutput(dataTable, element);\n",
              "          const docLink = document.createElement('div');\n",
              "          docLink.innerHTML = docLinkHtml;\n",
              "          element.appendChild(docLink);\n",
              "        }\n",
              "      </script>\n",
              "    </div>\n",
              "  </div>\n",
              "  "
            ]
          },
          "metadata": {},
          "execution_count": 10
        }
      ],
      "source": [
        "import pandas as pd\n",
        "df = pd.read_csv('https://raw.githubusercontent.com/sripragnabitra/woc/main/Cricket_chirps.csv')\n",
        "df"
      ]
    },
    {
      "cell_type": "code",
      "source": [
        "#2.PRE-PROCESSING"
      ],
      "metadata": {
        "id": "86d0O2oUB7Mt"
      },
      "execution_count": null,
      "outputs": []
    },
    {
      "cell_type": "code",
      "source": [
        "#3.DATA VISUALISATION\n",
        "import matplotlib.pyplot as plt\n",
        "plt.scatter(df['X'],df['Y'])\n",
        "plt.title('Temperature vs No. of Cricket Chirps')\n",
        "plt.xlabel('Temperature')\n",
        "plt.ylabel('No. of Cricket Chirps')\n",
        "plt.show()"
      ],
      "metadata": {
        "colab": {
          "base_uri": "https://localhost:8080/",
          "height": 295
        },
        "id": "oY_ZWwJIApV7",
        "outputId": "042062a5-b024-44b6-ef2e-4fab9773f449"
      },
      "execution_count": null,
      "outputs": [
        {
          "output_type": "display_data",
          "data": {
            "text/plain": [
              "<Figure size 432x288 with 1 Axes>"
            ],
            "image/png": "[encoded data removed]"
          },
          "metadata": {
            "needs_background": "light"
          }
        }
      ]
    },
    {
      "cell_type": "code",
      "source": [
        "#4.DIVIDE DATA INTO INPUT AND OUTPUT\n",
        "x=df.iloc[:,0:1].values\n",
        "x"
      ],
      "metadata": {
        "colab": {
          "base_uri": "https://localhost:8080/"
        },
        "id": "ot0MZJEuBYEl",
        "outputId": "65e24455-fd5c-404e-e522-49a05fb1441d"
      },
      "execution_count": null,
      "outputs": [
        {
          "output_type": "execute_result",
          "data": {
            "text/plain": [
              "array([[88.59999847],\n",
              "       [71.59999847],\n",
              "       [93.30000305],\n",
              "       ...,\n",
              "       [86.        ],\n",
              "       [83.        ],\n",
              "       [72.        ]])"
            ]
          },
          "metadata": {},
          "execution_count": 13
        }
      ]
    },
    {
      "cell_type": "code",
      "source": [
        "y=df.iloc[:,1].values\n",
        "y"
      ],
      "metadata": {
        "colab": {
          "base_uri": "https://localhost:8080/"
        },
        "id": "xbSQrrwMBZSx",
        "outputId": "8151b354-f4cc-4484-db5e-2896fd9d40ac"
      },
      "execution_count": null,
      "outputs": [
        {
          "output_type": "execute_result",
          "data": {
            "text/plain": [
              "array([19, 16, 22, ..., 17, 20, 16])"
            ]
          },
          "metadata": {},
          "execution_count": 14
        }
      ]
    },
    {
      "cell_type": "code",
      "source": [
        "#5.TRAIN AND TEST VARIABLES\n",
        "from sklearn.model_selection import train_test_split\n",
        "x_train,x_test,y_train,y_test = train_test_split(x, y, random_state = 0)"
      ],
      "metadata": {
        "id": "wU71owG8BcRd"
      },
      "execution_count": null,
      "outputs": []
    },
    {
      "cell_type": "code",
      "source": [
        "#6.SCALING AND NORMALISATION"
      ],
      "metadata": {
        "id": "Nd9TzJr3CUAj"
      },
      "execution_count": null,
      "outputs": []
    },
    {
      "cell_type": "code",
      "source": [
        "#7.RUN THE REGRESSOR\n",
        "from sklearn.linear_model import LinearRegression\n",
        "model=LinearRegression()"
      ],
      "metadata": {
        "id": "LPAA6NMJCfnZ"
      },
      "execution_count": null,
      "outputs": []
    },
    {
      "cell_type": "code",
      "source": [
        "#8.FIT THE MODEL\n",
        "model.fit(x_train,y_train)"
      ],
      "metadata": {
        "colab": {
          "base_uri": "https://localhost:8080/",
          "height": 74
        },
        "id": "f1A2olEXCotB",
        "outputId": "340d5553-9c96-484c-e93b-efdb26da1c84"
      },
      "execution_count": null,
      "outputs": [
        {
          "output_type": "execute_result",
          "data": {
            "text/plain": [
              "LinearRegression()"
            ],
            "text/html": [
              "<style>#sk-container-id-2 {color: black;background-color: white;}#sk-container-id-2 pre{padding: 0;}#sk-container-id-2 div.sk-toggleable {background-color: white;}#sk-container-id-2 label.sk-toggleable__label {cursor: pointer;display: block;width: 100%;margin-bottom: 0;padding: 0.3em;box-sizing: border-box;text-align: center;}#sk-container-id-2 label.sk-toggleable__label-arrow:before {content: \"▸\";float: left;margin-right: 0.25em;color: #696969;}#sk-container-id-2 label.sk-toggleable__label-arrow:hover:before {color: black;}#sk-container-id-2 div.sk-estimator:hover label.sk-toggleable__label-arrow:before {color: black;}#sk-container-id-2 div.sk-toggleable__content {max-height: 0;max-width: 0;overflow: hidden;text-align: left;background-color: #f0f8ff;}#sk-container-id-2 div.sk-toggleable__content pre {margin: 0.2em;color: black;border-radius: 0.25em;background-color: #f0f8ff;}#sk-container-id-2 input.sk-toggleable__control:checked~div.sk-toggleable__content {max-height: 200px;max-width: 100%;overflow: auto;}#sk-container-id-2 input.sk-toggleable__control:checked~label.sk-toggleable__label-arrow:before {content: \"▾\";}#sk-container-id-2 div.sk-estimator input.sk-toggleable__control:checked~label.sk-toggleable__label {background-color: #d4ebff;}#sk-container-id-2 div.sk-label input.sk-toggleable__control:checked~label.sk-toggleable__label {background-color: #d4ebff;}#sk-container-id-2 input.sk-hidden--visually {border: 0;clip: rect(1px 1px 1px 1px);clip: rect(1px, 1px, 1px, 1px);height: 1px;margin: -1px;overflow: hidden;padding: 0;position: absolute;width: 1px;}#sk-container-id-2 div.sk-estimator {font-family: monospace;background-color: #f0f8ff;border: 1px dotted black;border-radius: 0.25em;box-sizing: border-box;margin-bottom: 0.5em;}#sk-container-id-2 div.sk-estimator:hover {background-color: #d4ebff;}#sk-container-id-2 div.sk-parallel-item::after {content: \"\";width: 100%;border-bottom: 1px solid gray;flex-grow: 1;}#sk-container-id-2 div.sk-label:hover label.sk-toggleable__label {background-color: #d4ebff;}#sk-container-id-2 div.sk-serial::before {content: \"\";position: absolute;border-left: 1px solid gray;box-sizing: border-box;top: 0;bottom: 0;left: 50%;z-index: 0;}#sk-container-id-2 div.sk-serial {display: flex;flex-direction: column;align-items: center;background-color: white;padding-right: 0.2em;padding-left: 0.2em;position: relative;}#sk-container-id-2 div.sk-item {position: relative;z-index: 1;}#sk-container-id-2 div.sk-parallel {display: flex;align-items: stretch;justify-content: center;background-color: white;position: relative;}#sk-container-id-2 div.sk-item::before, #sk-container-id-2 div.sk-parallel-item::before {content: \"\";position: absolute;border-left: 1px solid gray;box-sizing: border-box;top: 0;bottom: 0;left: 50%;z-index: -1;}#sk-container-id-2 div.sk-parallel-item {display: flex;flex-direction: column;z-index: 1;position: relative;background-color: white;}#sk-container-id-2 div.sk-parallel-item:first-child::after {align-self: flex-end;width: 50%;}#sk-container-id-2 div.sk-parallel-item:last-child::after {align-self: flex-start;width: 50%;}#sk-container-id-2 div.sk-parallel-item:only-child::after {width: 0;}#sk-container-id-2 div.sk-dashed-wrapped {border: 1px dashed gray;margin: 0 0.4em 0.5em 0.4em;box-sizing: border-box;padding-bottom: 0.4em;background-color: white;}#sk-container-id-2 div.sk-label label {font-family: monospace;font-weight: bold;display: inline-block;line-height: 1.2em;}#sk-container-id-2 div.sk-label-container {text-align: center;}#sk-container-id-2 div.sk-container {/* jupyter's `normalize.less` sets `[hidden] { display: none; }` but bootstrap.min.css set `[hidden] { display: none !important; }` so we also need the `!important` here to be able to override the default hidden behavior on the sphinx rendered scikit-learn.org. See: https://github.com/scikit-learn/scikit-learn/issues/21755 */display: inline-block !important;position: relative;}#sk-container-id-2 div.sk-text-repr-fallback {display: none;}</style><div id=\"sk-container-id-2\" class=\"sk-top-container\"><div class=\"sk-text-repr-fallback\"><pre>LinearRegression()</pre><b>In a Jupyter environment, please rerun this cell to show the HTML representation or trust the notebook. <br />On GitHub, the HTML representation is unable to render, please try loading this page with nbviewer.org.</b></div><div class=\"sk-container\" hidden><div class=\"sk-item\"><div class=\"sk-estimator sk-toggleable\"><input class=\"sk-toggleable__control sk-hidden--visually\" id=\"sk-estimator-id-2\" type=\"checkbox\" checked><label for=\"sk-estimator-id-2\" class=\"sk-toggleable__label sk-toggleable__label-arrow\">LinearRegression</label><div class=\"sk-toggleable__content\"><pre>LinearRegression()</pre></div></div></div></div></div>"
            ]
          },
          "metadata": {},
          "execution_count": 18
        }
      ]
    },
    {
      "cell_type": "code",
      "source": [
        "#9.PREDICT THE OUTPUT\n",
        "y_pred=model.predict(x_test)\n",
        "y_pred"
      ],
      "metadata": {
        "colab": {
          "base_uri": "https://localhost:8080/"
        },
        "id": "pu5l61rMBfz8",
        "outputId": "20dbc272-5e1b-4447-dc7c-96b80a20ee4a"
      },
      "execution_count": null,
      "outputs": [
        {
          "output_type": "execute_result",
          "data": {
            "text/plain": [
              "array([17.53167355, 18.37234753, 14.99379133, 17.53167355, 15.31102661,\n",
              "       18.32476175, 18.48337939, 18.00752647, 19.11784995, 16.57996772,\n",
              "       17.05582064, 18.80061467, 15.46964424, 15.46964424, 15.78687952,\n",
              "       15.94549716, 17.84890883, 15.15240897, 18.80061467, 17.69029119,\n",
              "       17.84890883, 19.27646759, 17.53167355, 18.48337939, 18.80061467,\n",
              "       15.31102661, 19.11784995, 18.80061467, 17.53167355, 18.16614411,\n",
              "       17.84890883, 17.84890883, 17.21443828, 17.21443828, 18.16614411,\n",
              "       18.80061467, 17.05582064, 16.57996772, 18.32476175, 18.64199703,\n",
              "       15.78687952, 18.80061467, 19.43508523, 16.42135008, 19.43508523,\n",
              "       17.53167355, 18.95923231, 14.99379133, 16.73858536, 16.897203  ,\n",
              "       16.42135008, 18.00752647, 19.27646759, 19.43508523, 17.69029119,\n",
              "       15.78687952, 15.46964424, 17.21443828, 15.62826188, 18.00752647,\n",
              "       17.05582064, 15.46964424, 15.46964424, 15.15240897, 17.21443828,\n",
              "       17.05582064, 17.84890883, 17.53167355, 18.32476175, 18.32476175,\n",
              "       18.00752647, 15.31102661, 16.42135008, 15.31102661, 16.57996772,\n",
              "       18.00752647, 17.05582064, 16.73858536, 16.1041148 , 15.62826188,\n",
              "       17.21443828, 16.57996772, 15.15240897, 17.84890883, 16.57996772,\n",
              "       15.31102661, 19.11784995, 17.37305592, 16.73858536, 17.37305592,\n",
              "       18.64199703, 19.27646759, 17.84890883, 17.26202405, 16.26273244,\n",
              "       18.95923231, 15.31102661, 15.46964424, 19.43508523, 18.48337939,\n",
              "       18.48337939, 16.26273244, 16.1041148 , 16.42135008, 15.62826188,\n",
              "       17.05582064, 18.64199703, 19.43508523, 16.57996772, 14.99379133,\n",
              "       18.95923231, 17.94407917, 19.43508523, 17.53167355, 14.99379133,\n",
              "       17.21443828, 19.43508523, 16.42135008, 16.897203  , 17.05582064,\n",
              "       19.11784995, 17.69029119, 15.46964424, 16.42135008, 17.05582064,\n",
              "       18.48337939, 17.53167355, 18.16614411, 17.37305592, 16.897203  ,\n",
              "       14.99379133, 16.1041148 , 19.43508523, 15.46964424, 17.37305592,\n",
              "       15.62826188, 18.16614411, 17.05582064, 16.1041148 , 16.57996772,\n",
              "       18.48337939, 17.84890883, 18.48337939, 17.84890883, 16.73858536,\n",
              "       17.53167355, 17.37305592, 18.00752647, 18.80061467, 17.08754368,\n",
              "       16.57996772, 18.16614411, 18.64199703, 16.1041148 , 17.21443828,\n",
              "       17.21443828, 15.31102661, 17.69029119, 18.32476175, 15.15240897,\n",
              "       14.99379133, 16.57996772, 15.94549716, 15.78687952, 16.1041148 ,\n",
              "       17.84890883, 16.57996772, 14.99379133, 18.48337939, 19.27646759,\n",
              "       18.80061467, 16.42135008, 16.73858536, 15.78687952, 15.31102661,\n",
              "       18.95923231, 16.26273244, 17.53167355, 16.73858536, 15.15240897,\n",
              "       19.11784995, 19.11784995, 19.95852392, 17.69029119, 16.73858536,\n",
              "       16.57996772, 17.53167355, 16.42135008, 16.57996772, 19.27646759,\n",
              "       18.16614411, 19.11784995, 19.43508523, 16.1041148 , 15.15240897,\n",
              "       18.00752647, 16.1041148 , 18.64199703, 17.05582064, 15.62826188,\n",
              "       15.62826188, 15.31102661, 18.16614411, 16.42135008, 16.26273244,\n",
              "       15.78687952, 19.27646759, 17.21443828, 15.31102661, 17.84890883,\n",
              "       18.48337939, 16.51652042, 17.05582064, 16.897203  , 17.05582064,\n",
              "       15.15240897, 15.62826188, 19.11784995, 16.42135008, 15.15240897,\n",
              "       18.64199703, 16.897203  , 19.43508523, 15.94549716, 16.26273244,\n",
              "       15.31102661, 17.21443828, 19.43508523, 17.69029119, 15.46964424,\n",
              "       18.95923231, 15.78687952, 18.48337939, 16.897203  , 17.05582064,\n",
              "       18.16614411, 17.21443828, 16.57996772, 15.46964424, 18.64199703,\n",
              "       18.16614411, 18.95923231, 15.46964424, 17.53167355, 17.53167355,\n",
              "       14.99379133, 15.46964424, 14.99379133, 17.21443828, 18.32476175,\n",
              "       14.99379133, 16.57996772, 15.46964424, 17.69029119, 14.99379133,\n",
              "       18.16614411, 18.95923231, 15.31102661, 17.37305592, 18.32476175,\n",
              "       15.62826188, 19.27646759, 17.21443828, 17.05582064, 16.897203  ,\n",
              "       18.00752647, 19.43508523, 16.897203  , 18.00752647, 18.48337939,\n",
              "       15.46964424, 15.15240897, 19.11784995, 16.57996772, 18.32476175,\n",
              "       15.78687952, 15.78687952, 18.32476175, 18.32476175, 17.37305592,\n",
              "       14.99379133, 15.62826188, 18.16614411, 19.27646759, 16.73858536,\n",
              "       16.57996772, 18.16614411, 15.15240897, 17.53167355, 16.57996772,\n",
              "       18.00752647, 16.897203  , 15.78687952, 18.64199703, 18.16614411,\n",
              "       19.27646759, 15.15240897, 17.05582064, 19.43508523, 17.37305592,\n",
              "       18.95923231, 15.62826188, 15.15240897, 18.64199703, 17.84890883,\n",
              "       16.897203  , 15.62826188, 19.27646759, 14.99379133, 17.84890883,\n",
              "       16.897203  , 18.64199703, 16.42135008, 16.26273244, 18.00752647,\n",
              "       18.00752647, 16.897203  , 19.11784995, 18.00752647, 18.64199703,\n",
              "       17.05582064, 18.80061467, 16.42135008, 18.32476175, 19.27646759,\n",
              "       17.37305592, 15.31102661, 17.21443828, 16.26273244, 14.99379133,\n",
              "       16.1041148 , 16.897203  , 17.84890883, 18.32476175, 17.84890883,\n",
              "       19.27646759, 15.46964424, 18.16614411, 16.26273244, 18.64199703,\n",
              "       15.15240897, 18.00752647, 17.37305592, 19.43508523, 16.42135008,\n",
              "       16.26273244, 17.84890883, 18.16614411, 16.1041148 , 16.897203  ,\n",
              "       14.99379133, 15.15240897, 18.32476175, 18.16614411, 16.26273244,\n",
              "       18.16614411, 19.11784995, 16.42135008, 19.43508523, 15.31102661,\n",
              "       18.16614411, 19.43508523, 16.26273244, 18.95923231, 16.897203  ,\n",
              "       19.43508523, 16.73858536, 18.64199703, 15.46964424, 18.32476175,\n",
              "       17.37305592, 18.64199703, 18.32476175, 15.78687952, 15.15240897])"
            ]
          },
          "metadata": {},
          "execution_count": 19
        }
      ]
    },
    {
      "cell_type": "code",
      "source": [
        "y_test"
      ],
      "metadata": {
        "colab": {
          "base_uri": "https://localhost:8080/"
        },
        "id": "Eo1RF0y9BleL",
        "outputId": "bf78f680-32bf-4934-edf0-bdb6d9589942"
      },
      "execution_count": null,
      "outputs": [
        {
          "output_type": "execute_result",
          "data": {
            "text/plain": [
              "array([16, 18, 16, 19, 13, 19, 19, 18, 17, 17, 19, 20, 17, 17, 17, 17, 20,\n",
              "       16, 20, 18, 16, 18, 19, 20, 21, 14, 19, 21, 16, 17, 18, 20, 19, 17,\n",
              "       17, 21, 17, 16, 20, 21, 15, 21, 22, 16, 21, 18, 17, 16, 18, 17, 17,\n",
              "       18, 19, 21, 17, 15, 17, 17, 17, 18, 17, 15, 17, 14, 17, 17, 20, 18,\n",
              "       19, 17, 16, 14, 16, 13, 18, 17, 19, 17, 16, 17, 18, 16, 14, 20, 16,\n",
              "       16, 19, 17, 18, 16, 20, 20, 20, 17, 17, 17, 15, 16, 18, 17, 17, 17,\n",
              "       16, 16, 15, 17, 20, 18, 17, 16, 17, 19, 21, 19, 13, 17, 18, 16, 18,\n",
              "       19, 18, 17, 17, 18, 18, 17, 18, 17, 18, 17, 14, 17, 22, 16, 17, 16,\n",
              "       16, 17, 17, 18, 20, 18, 20, 17, 17, 16, 16, 20, 19, 19, 17, 17, 21,\n",
              "       17, 18, 19, 14, 19, 17, 13, 16, 17, 16, 16, 17, 19, 16, 14, 18, 18,\n",
              "       19, 18, 16, 16, 16, 18, 18, 17, 18, 16, 19, 18, 22, 19, 16, 18, 16,\n",
              "       16, 16, 18, 18, 21, 20, 17, 15, 20, 16, 18, 19, 16, 16, 15, 20, 17,\n",
              "       16, 17, 20, 17, 14, 16, 17, 16, 18, 17, 19, 13, 16, 18, 16, 16, 19,\n",
              "       18, 22, 17, 16, 16, 19, 19, 17, 17, 19, 17, 19, 18, 19, 16, 18, 18,\n",
              "       17, 19, 17, 19, 15, 18, 19, 15, 16, 14, 16, 20, 16, 16, 17, 19, 15,\n",
              "       18, 20, 15, 16, 20, 15, 17, 18, 18, 16, 20, 21, 16, 17, 20, 16, 14,\n",
              "       21, 16, 18, 15, 17, 17, 19, 19, 14, 16, 16, 17, 17, 17, 19, 15, 18,\n",
              "       16, 17, 16, 16, 18, 20, 18, 16, 17, 17, 17, 18, 16, 16, 21, 17, 16,\n",
              "       15, 17, 15, 17, 16, 19, 16, 17, 19, 16, 16, 19, 16, 17, 16, 20, 16,\n",
              "       18, 18, 16, 16, 16, 16, 15, 17, 17, 20, 19, 18, 17, 15, 18, 16, 18,\n",
              "       15, 18, 16, 17, 17, 17, 20, 18, 15, 17, 14, 13, 19, 16, 17, 19, 17,\n",
              "       17, 18, 13, 17, 20, 17, 20, 18, 22, 17, 21, 16, 16, 16, 20, 17, 17,\n",
              "       14])"
            ]
          },
          "metadata": {},
          "execution_count": 20
        }
      ]
    },
    {
      "cell_type": "code",
      "source": [
        "#10.EVALUATION\n",
        "import matplotlib.pyplot as plt\n",
        "plt.scatter(x_train,y_train, marker=\"x\",color='r')\n",
        "plt.plot(x_test,y_pred)\n",
        "plt.title('Temperature vs No. of Cricket Chirps')\n",
        "plt.xlabel('Temperature')\n",
        "plt.ylabel('No. of Cricket Chirps')\n",
        "plt.show()"
      ],
      "metadata": {
        "colab": {
          "base_uri": "https://localhost:8080/",
          "height": 295
        },
        "id": "xgcxkTsbBrc-",
        "outputId": "a7a18a1e-296b-48a8-a0a8-a4f50ad34f20"
      },
      "execution_count": null,
      "outputs": [
        {
          "output_type": "display_data",
          "data": {
            "text/plain": [
              "<Figure size 432x288 with 1 Axes>"
            ],
            "image/png": "[encoded data removed]"
          },
          "metadata": {
            "needs_background": "light"
          }
        }
      ]
    }
  ]
}