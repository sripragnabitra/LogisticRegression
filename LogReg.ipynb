{
  "nbformat": 4,
  "nbformat_minor": 0,
  "metadata": {
    "colab": {
      "provenance": [],
      "authorship_tag": "ABX9TyM+zlz9GwWBgaJHK+KM4+EV",
      "include_colab_link": true
    },
    "kernelspec": {
      "name": "python3",
      "display_name": "Python 3"
    },
    "language_info": {
      "name": "python"
    }
  },
  "cells": [
    {
      "cell_type": "markdown",
      "metadata": {
        "id": "view-in-github",
        "colab_type": "text"
      },
      "source": [
        "<a href=\"https://colab.research.google.com/github/sripragnabitra/supervised-machlearning/blob/main/LogReg.ipynb\" target=\"_parent\"><img src=\"https://colab.research.google.com/assets/colab-badge.svg\" alt=\"Open In Colab\"/></a>"
      ]
    },
    {
      "cell_type": "markdown",
      "source": [
        "Choose any dataset of your choice, apply a suitable algorithm(Registration/ Classification) and create a model."
      ],
      "metadata": {
        "id": "xBsn1SeABAbR"
      }
    },
    {
      "cell_type": "code",
      "source": [
        "#1.TAKE DATA AND CREATE DATAFAME\n",
        "#obtained dataset from data.world data resource website\n",
        "import pandas as pd\n",
        "df = pd.read_csv('https://query.data.world/s/2jjneyocez4aebw6677epdkhkb4e2h', sep=';')\n",
        "df"
      ],
      "metadata": {
        "id": "cc7wt16gFE1-",
        "colab": {
          "base_uri": "https://localhost:8080/",
          "height": 423
        },
        "outputId": "6947f1fc-fa14-4697-ec29-2a9dddc71892"
      },
      "execution_count": null,
      "outputs": [
        {
          "output_type": "execute_result",
          "data": {
            "text/plain": [
              "      Chord  2nd  3rd   4th   5th   6th\n",
              "0        Am   45   52  57.0  60.0  64.0\n",
              "1      Amaj   45   52  57.0  61.0  64.0\n",
              "2        A6   52   57  61.0  66.0   NaN\n",
              "3        A7   45   52  55.0  61.0  64.0\n",
              "4      A7b5   45   55  61.0  63.0   NaN\n",
              "..      ...  ...  ...   ...   ...   ...\n",
              "408  G#maj7   51   56  60.0  67.0   NaN\n",
              "409  G#maj9   44   48  55.0  58.0  63.0\n",
              "410  G#sus2   46   51  56.0   NaN   NaN\n",
              "411  G#sus4   51   56  61.0  68.0   NaN\n",
              "412    G7#5   43   47  50.0  55.0  59.0\n",
              "\n",
              "[413 rows x 6 columns]"
            ],
            "text/html": [
              "\n",
              "  <div id=\"df-9d93c22a-2580-45d1-b2b1-5916479f2023\">\n",
              "    <div class=\"colab-df-container\">\n",
              "      <div>\n",
              "<style scoped>\n",
              "    .dataframe tbody tr th:only-of-type {\n",
              "        vertical-align: middle;\n",
              "    }\n",
              "\n",
              "    .dataframe tbody tr th {\n",
              "        vertical-align: top;\n",
              "    }\n",
              "\n",
              "    .dataframe thead th {\n",
              "        text-align: right;\n",
              "    }\n",
              "</style>\n",
              "<table border=\"1\" class=\"dataframe\">\n",
              "  <thead>\n",
              "    <tr style=\"text-align: right;\">\n",
              "      <th></th>\n",
              "      <th>Chord</th>\n",
              "      <th>2nd</th>\n",
              "      <th>3rd</th>\n",
              "      <th>4th</th>\n",
              "      <th>5th</th>\n",
              "      <th>6th</th>\n",
              "    </tr>\n",
              "  </thead>\n",
              "  <tbody>\n",
              "    <tr>\n",
              "      <th>0</th>\n",
              "      <td>Am</td>\n",
              "      <td>45</td>\n",
              "      <td>52</td>\n",
              "      <td>57.0</td>\n",
              "      <td>60.0</td>\n",
              "      <td>64.0</td>\n",
              "    </tr>\n",
              "    <tr>\n",
              "      <th>1</th>\n",
              "      <td>Amaj</td>\n",
              "      <td>45</td>\n",
              "      <td>52</td>\n",
              "      <td>57.0</td>\n",
              "      <td>61.0</td>\n",
              "      <td>64.0</td>\n",
              "    </tr>\n",
              "    <tr>\n",
              "      <th>2</th>\n",
              "      <td>A6</td>\n",
              "      <td>52</td>\n",
              "      <td>57</td>\n",
              "      <td>61.0</td>\n",
              "      <td>66.0</td>\n",
              "      <td>NaN</td>\n",
              "    </tr>\n",
              "    <tr>\n",
              "      <th>3</th>\n",
              "      <td>A7</td>\n",
              "      <td>45</td>\n",
              "      <td>52</td>\n",
              "      <td>55.0</td>\n",
              "      <td>61.0</td>\n",
              "      <td>64.0</td>\n",
              "    </tr>\n",
              "    <tr>\n",
              "      <th>4</th>\n",
              "      <td>A7b5</td>\n",
              "      <td>45</td>\n",
              "      <td>55</td>\n",
              "      <td>61.0</td>\n",
              "      <td>63.0</td>\n",
              "      <td>NaN</td>\n",
              "    </tr>\n",
              "    <tr>\n",
              "      <th>...</th>\n",
              "      <td>...</td>\n",
              "      <td>...</td>\n",
              "      <td>...</td>\n",
              "      <td>...</td>\n",
              "      <td>...</td>\n",
              "      <td>...</td>\n",
              "    </tr>\n",
              "    <tr>\n",
              "      <th>408</th>\n",
              "      <td>G#maj7</td>\n",
              "      <td>51</td>\n",
              "      <td>56</td>\n",
              "      <td>60.0</td>\n",
              "      <td>67.0</td>\n",
              "      <td>NaN</td>\n",
              "    </tr>\n",
              "    <tr>\n",
              "      <th>409</th>\n",
              "      <td>G#maj9</td>\n",
              "      <td>44</td>\n",
              "      <td>48</td>\n",
              "      <td>55.0</td>\n",
              "      <td>58.0</td>\n",
              "      <td>63.0</td>\n",
              "    </tr>\n",
              "    <tr>\n",
              "      <th>410</th>\n",
              "      <td>G#sus2</td>\n",
              "      <td>46</td>\n",
              "      <td>51</td>\n",
              "      <td>56.0</td>\n",
              "      <td>NaN</td>\n",
              "      <td>NaN</td>\n",
              "    </tr>\n",
              "    <tr>\n",
              "      <th>411</th>\n",
              "      <td>G#sus4</td>\n",
              "      <td>51</td>\n",
              "      <td>56</td>\n",
              "      <td>61.0</td>\n",
              "      <td>68.0</td>\n",
              "      <td>NaN</td>\n",
              "    </tr>\n",
              "    <tr>\n",
              "      <th>412</th>\n",
              "      <td>G7#5</td>\n",
              "      <td>43</td>\n",
              "      <td>47</td>\n",
              "      <td>50.0</td>\n",
              "      <td>55.0</td>\n",
              "      <td>59.0</td>\n",
              "    </tr>\n",
              "  </tbody>\n",
              "</table>\n",
              "<p>413 rows × 6 columns</p>\n",
              "</div>\n",
              "      <button class=\"colab-df-convert\" onclick=\"convertToInteractive('df-9d93c22a-2580-45d1-b2b1-5916479f2023')\"\n",
              "              title=\"Convert this dataframe to an interactive table.\"\n",
              "              style=\"display:none;\">\n",
              "        \n",
              "  <svg xmlns=\"http://www.w3.org/2000/svg\" height=\"24px\"viewBox=\"0 0 24 24\"\n",
              "       width=\"24px\">\n",
              "    <path d=\"M0 0h24v24H0V0z\" fill=\"none\"/>\n",
              "    <path d=\"M18.56 5.44l.94 2.06.94-2.06 2.06-.94-2.06-.94-.94-2.06-.94 2.06-2.06.94zm-11 1L8.5 8.5l.94-2.06 2.06-.94-2.06-.94L8.5 2.5l-.94 2.06-2.06.94zm10 10l.94 2.06.94-2.06 2.06-.94-2.06-.94-.94-2.06-.94 2.06-2.06.94z\"/><path d=\"M17.41 7.96l-1.37-1.37c-.4-.4-.92-.59-1.43-.59-.52 0-1.04.2-1.43.59L10.3 9.45l-7.72 7.72c-.78.78-.78 2.05 0 2.83L4 21.41c.39.39.9.59 1.41.59.51 0 1.02-.2 1.41-.59l7.78-7.78 2.81-2.81c.8-.78.8-2.07 0-2.86zM5.41 20L4 18.59l7.72-7.72 1.47 1.35L5.41 20z\"/>\n",
              "  </svg>\n",
              "      </button>\n",
              "      \n",
              "  <style>\n",
              "    .colab-df-container {\n",
              "      display:flex;\n",
              "      flex-wrap:wrap;\n",
              "      gap: 12px;\n",
              "    }\n",
              "\n",
              "    .colab-df-convert {\n",
              "      background-color: #E8F0FE;\n",
              "      border: none;\n",
              "      border-radius: 50%;\n",
              "      cursor: pointer;\n",
              "      display: none;\n",
              "      fill: #1967D2;\n",
              "      height: 32px;\n",
              "      padding: 0 0 0 0;\n",
              "      width: 32px;\n",
              "    }\n",
              "\n",
              "    .colab-df-convert:hover {\n",
              "      background-color: #E2EBFA;\n",
              "      box-shadow: 0px 1px 2px rgba(60, 64, 67, 0.3), 0px 1px 3px 1px rgba(60, 64, 67, 0.15);\n",
              "      fill: #174EA6;\n",
              "    }\n",
              "\n",
              "    [theme=dark] .colab-df-convert {\n",
              "      background-color: #3B4455;\n",
              "      fill: #D2E3FC;\n",
              "    }\n",
              "\n",
              "    [theme=dark] .colab-df-convert:hover {\n",
              "      background-color: #434B5C;\n",
              "      box-shadow: 0px 1px 3px 1px rgba(0, 0, 0, 0.15);\n",
              "      filter: drop-shadow(0px 1px 2px rgba(0, 0, 0, 0.3));\n",
              "      fill: #FFFFFF;\n",
              "    }\n",
              "  </style>\n",
              "\n",
              "      <script>\n",
              "        const buttonEl =\n",
              "          document.querySelector('#df-9d93c22a-2580-45d1-b2b1-5916479f2023 button.colab-df-convert');\n",
              "        buttonEl.style.display =\n",
              "          google.colab.kernel.accessAllowed ? 'block' : 'none';\n",
              "\n",
              "        async function convertToInteractive(key) {\n",
              "          const element = document.querySelector('#df-9d93c22a-2580-45d1-b2b1-5916479f2023');\n",
              "          const dataTable =\n",
              "            await google.colab.kernel.invokeFunction('convertToInteractive',\n",
              "                                                     [key], {});\n",
              "          if (!dataTable) return;\n",
              "\n",
              "          const docLinkHtml = 'Like what you see? Visit the ' +\n",
              "            '<a target=\"_blank\" href=https://colab.research.google.com/notebooks/data_table.ipynb>data table notebook</a>'\n",
              "            + ' to learn more about interactive tables.';\n",
              "          element.innerHTML = '';\n",
              "          dataTable['output_type'] = 'display_data';\n",
              "          await google.colab.output.renderOutput(dataTable, element);\n",
              "          const docLink = document.createElement('div');\n",
              "          docLink.innerHTML = docLinkHtml;\n",
              "          element.appendChild(docLink);\n",
              "        }\n",
              "      </script>\n",
              "    </div>\n",
              "  </div>\n",
              "  "
            ]
          },
          "metadata": {},
          "execution_count": 29
        }
      ]
    },
    {
      "cell_type": "code",
      "source": [
        "#2.PRE-PROCESSING\n",
        "df=df.rename({'2nd':'midi_note_1','3rd':'midi_note_2','4th':'midi_note_3','5th':'midi_note_4','6th':'midi_note_5'}, axis='columns')\n",
        "df = df.dropna() #removing the rows which have NAN values\n",
        "df"
      ],
      "metadata": {
        "colab": {
          "base_uri": "https://localhost:8080/",
          "height": 423
        },
        "id": "v39URqsvuVXV",
        "outputId": "6d1ba7cf-c859-4d41-a671-cd99f5ddb8d8"
      },
      "execution_count": null,
      "outputs": [
        {
          "output_type": "execute_result",
          "data": {
            "text/plain": [
              "      Chord  midi_note_1  midi_note_2  midi_note_3  midi_note_4  midi_note_5\n",
              "0        Am           45           52         57.0         60.0         64.0\n",
              "1      Amaj           45           52         57.0         61.0         64.0\n",
              "3        A7           45           52         55.0         61.0         64.0\n",
              "5      A7b9           45           52         58.0         61.0         67.0\n",
              "6        A9           45           52         59.0         61.0         67.0\n",
              "..      ...          ...          ...          ...          ...          ...\n",
              "405    G#m9           42           46         51.0         56.0         59.0\n",
              "406   G#m11           44           47         54.0         59.0         61.0\n",
              "407   G#maj           44           51         56.0         60.0         63.0\n",
              "409  G#maj9           44           48         55.0         58.0         63.0\n",
              "412    G7#5           43           47         50.0         55.0         59.0\n",
              "\n",
              "[230 rows x 6 columns]"
            ],
            "text/html": [
              "\n",
              "  <div id=\"df-45d203f5-c04e-4ec4-b34b-4e7f11dfaeb7\">\n",
              "    <div class=\"colab-df-container\">\n",
              "      <div>\n",
              "<style scoped>\n",
              "    .dataframe tbody tr th:only-of-type {\n",
              "        vertical-align: middle;\n",
              "    }\n",
              "\n",
              "    .dataframe tbody tr th {\n",
              "        vertical-align: top;\n",
              "    }\n",
              "\n",
              "    .dataframe thead th {\n",
              "        text-align: right;\n",
              "    }\n",
              "</style>\n",
              "<table border=\"1\" class=\"dataframe\">\n",
              "  <thead>\n",
              "    <tr style=\"text-align: right;\">\n",
              "      <th></th>\n",
              "      <th>Chord</th>\n",
              "      <th>midi_note_1</th>\n",
              "      <th>midi_note_2</th>\n",
              "      <th>midi_note_3</th>\n",
              "      <th>midi_note_4</th>\n",
              "      <th>midi_note_5</th>\n",
              "    </tr>\n",
              "  </thead>\n",
              "  <tbody>\n",
              "    <tr>\n",
              "      <th>0</th>\n",
              "      <td>Am</td>\n",
              "      <td>45</td>\n",
              "      <td>52</td>\n",
              "      <td>57.0</td>\n",
              "      <td>60.0</td>\n",
              "      <td>64.0</td>\n",
              "    </tr>\n",
              "    <tr>\n",
              "      <th>1</th>\n",
              "      <td>Amaj</td>\n",
              "      <td>45</td>\n",
              "      <td>52</td>\n",
              "      <td>57.0</td>\n",
              "      <td>61.0</td>\n",
              "      <td>64.0</td>\n",
              "    </tr>\n",
              "    <tr>\n",
              "      <th>3</th>\n",
              "      <td>A7</td>\n",
              "      <td>45</td>\n",
              "      <td>52</td>\n",
              "      <td>55.0</td>\n",
              "      <td>61.0</td>\n",
              "      <td>64.0</td>\n",
              "    </tr>\n",
              "    <tr>\n",
              "      <th>5</th>\n",
              "      <td>A7b9</td>\n",
              "      <td>45</td>\n",
              "      <td>52</td>\n",
              "      <td>58.0</td>\n",
              "      <td>61.0</td>\n",
              "      <td>67.0</td>\n",
              "    </tr>\n",
              "    <tr>\n",
              "      <th>6</th>\n",
              "      <td>A9</td>\n",
              "      <td>45</td>\n",
              "      <td>52</td>\n",
              "      <td>59.0</td>\n",
              "      <td>61.0</td>\n",
              "      <td>67.0</td>\n",
              "    </tr>\n",
              "    <tr>\n",
              "      <th>...</th>\n",
              "      <td>...</td>\n",
              "      <td>...</td>\n",
              "      <td>...</td>\n",
              "      <td>...</td>\n",
              "      <td>...</td>\n",
              "      <td>...</td>\n",
              "    </tr>\n",
              "    <tr>\n",
              "      <th>405</th>\n",
              "      <td>G#m9</td>\n",
              "      <td>42</td>\n",
              "      <td>46</td>\n",
              "      <td>51.0</td>\n",
              "      <td>56.0</td>\n",
              "      <td>59.0</td>\n",
              "    </tr>\n",
              "    <tr>\n",
              "      <th>406</th>\n",
              "      <td>G#m11</td>\n",
              "      <td>44</td>\n",
              "      <td>47</td>\n",
              "      <td>54.0</td>\n",
              "      <td>59.0</td>\n",
              "      <td>61.0</td>\n",
              "    </tr>\n",
              "    <tr>\n",
              "      <th>407</th>\n",
              "      <td>G#maj</td>\n",
              "      <td>44</td>\n",
              "      <td>51</td>\n",
              "      <td>56.0</td>\n",
              "      <td>60.0</td>\n",
              "      <td>63.0</td>\n",
              "    </tr>\n",
              "    <tr>\n",
              "      <th>409</th>\n",
              "      <td>G#maj9</td>\n",
              "      <td>44</td>\n",
              "      <td>48</td>\n",
              "      <td>55.0</td>\n",
              "      <td>58.0</td>\n",
              "      <td>63.0</td>\n",
              "    </tr>\n",
              "    <tr>\n",
              "      <th>412</th>\n",
              "      <td>G7#5</td>\n",
              "      <td>43</td>\n",
              "      <td>47</td>\n",
              "      <td>50.0</td>\n",
              "      <td>55.0</td>\n",
              "      <td>59.0</td>\n",
              "    </tr>\n",
              "  </tbody>\n",
              "</table>\n",
              "<p>230 rows × 6 columns</p>\n",
              "</div>\n",
              "      <button class=\"colab-df-convert\" onclick=\"convertToInteractive('df-45d203f5-c04e-4ec4-b34b-4e7f11dfaeb7')\"\n",
              "              title=\"Convert this dataframe to an interactive table.\"\n",
              "              style=\"display:none;\">\n",
              "        \n",
              "  <svg xmlns=\"http://www.w3.org/2000/svg\" height=\"24px\"viewBox=\"0 0 24 24\"\n",
              "       width=\"24px\">\n",
              "    <path d=\"M0 0h24v24H0V0z\" fill=\"none\"/>\n",
              "    <path d=\"M18.56 5.44l.94 2.06.94-2.06 2.06-.94-2.06-.94-.94-2.06-.94 2.06-2.06.94zm-11 1L8.5 8.5l.94-2.06 2.06-.94-2.06-.94L8.5 2.5l-.94 2.06-2.06.94zm10 10l.94 2.06.94-2.06 2.06-.94-2.06-.94-.94-2.06-.94 2.06-2.06.94z\"/><path d=\"M17.41 7.96l-1.37-1.37c-.4-.4-.92-.59-1.43-.59-.52 0-1.04.2-1.43.59L10.3 9.45l-7.72 7.72c-.78.78-.78 2.05 0 2.83L4 21.41c.39.39.9.59 1.41.59.51 0 1.02-.2 1.41-.59l7.78-7.78 2.81-2.81c.8-.78.8-2.07 0-2.86zM5.41 20L4 18.59l7.72-7.72 1.47 1.35L5.41 20z\"/>\n",
              "  </svg>\n",
              "      </button>\n",
              "      \n",
              "  <style>\n",
              "    .colab-df-container {\n",
              "      display:flex;\n",
              "      flex-wrap:wrap;\n",
              "      gap: 12px;\n",
              "    }\n",
              "\n",
              "    .colab-df-convert {\n",
              "      background-color: #E8F0FE;\n",
              "      border: none;\n",
              "      border-radius: 50%;\n",
              "      cursor: pointer;\n",
              "      display: none;\n",
              "      fill: #1967D2;\n",
              "      height: 32px;\n",
              "      padding: 0 0 0 0;\n",
              "      width: 32px;\n",
              "    }\n",
              "\n",
              "    .colab-df-convert:hover {\n",
              "      background-color: #E2EBFA;\n",
              "      box-shadow: 0px 1px 2px rgba(60, 64, 67, 0.3), 0px 1px 3px 1px rgba(60, 64, 67, 0.15);\n",
              "      fill: #174EA6;\n",
              "    }\n",
              "\n",
              "    [theme=dark] .colab-df-convert {\n",
              "      background-color: #3B4455;\n",
              "      fill: #D2E3FC;\n",
              "    }\n",
              "\n",
              "    [theme=dark] .colab-df-convert:hover {\n",
              "      background-color: #434B5C;\n",
              "      box-shadow: 0px 1px 3px 1px rgba(0, 0, 0, 0.15);\n",
              "      filter: drop-shadow(0px 1px 2px rgba(0, 0, 0, 0.3));\n",
              "      fill: #FFFFFF;\n",
              "    }\n",
              "  </style>\n",
              "\n",
              "      <script>\n",
              "        const buttonEl =\n",
              "          document.querySelector('#df-45d203f5-c04e-4ec4-b34b-4e7f11dfaeb7 button.colab-df-convert');\n",
              "        buttonEl.style.display =\n",
              "          google.colab.kernel.accessAllowed ? 'block' : 'none';\n",
              "\n",
              "        async function convertToInteractive(key) {\n",
              "          const element = document.querySelector('#df-45d203f5-c04e-4ec4-b34b-4e7f11dfaeb7');\n",
              "          const dataTable =\n",
              "            await google.colab.kernel.invokeFunction('convertToInteractive',\n",
              "                                                     [key], {});\n",
              "          if (!dataTable) return;\n",
              "\n",
              "          const docLinkHtml = 'Like what you see? Visit the ' +\n",
              "            '<a target=\"_blank\" href=https://colab.research.google.com/notebooks/data_table.ipynb>data table notebook</a>'\n",
              "            + ' to learn more about interactive tables.';\n",
              "          element.innerHTML = '';\n",
              "          dataTable['output_type'] = 'display_data';\n",
              "          await google.colab.output.renderOutput(dataTable, element);\n",
              "          const docLink = document.createElement('div');\n",
              "          docLink.innerHTML = docLinkHtml;\n",
              "          element.appendChild(docLink);\n",
              "        }\n",
              "      </script>\n",
              "    </div>\n",
              "  </div>\n",
              "  "
            ]
          },
          "metadata": {},
          "execution_count": 30
        }
      ]
    },
    {
      "cell_type": "code",
      "source": [
        "df.shape"
      ],
      "metadata": {
        "colab": {
          "base_uri": "https://localhost:8080/"
        },
        "id": "OPgtzVktwuqr",
        "outputId": "0365dfa1-6386-412e-e288-d491ff3127e1"
      },
      "execution_count": null,
      "outputs": [
        {
          "output_type": "execute_result",
          "data": {
            "text/plain": [
              "(230, 6)"
            ]
          },
          "metadata": {},
          "execution_count": 31
        }
      ]
    },
    {
      "cell_type": "code",
      "source": [
        "#3.DATA VISUALISATION"
      ],
      "metadata": {
        "id": "hpo9bFlRDbGn"
      },
      "execution_count": null,
      "outputs": []
    },
    {
      "cell_type": "code",
      "source": [
        "#4.DIVIDE DATA INTO INPUT AND OUTPUT\n",
        "x=df.iloc[:,1:].values\n",
        "x"
      ],
      "metadata": {
        "colab": {
          "base_uri": "https://localhost:8080/"
        },
        "id": "OSu5mJOPwwjn",
        "outputId": "aa8ef438-5528-4b6f-ec14-13fa2183dfbe"
      },
      "execution_count": null,
      "outputs": [
        {
          "output_type": "execute_result",
          "data": {
            "text/plain": [
              "array([[45., 52., 57., 60., 64.],\n",
              "       [45., 52., 57., 61., 64.],\n",
              "       [45., 52., 55., 61., 64.],\n",
              "       ...,\n",
              "       [44., 51., 56., 60., 63.],\n",
              "       [44., 48., 55., 58., 63.],\n",
              "       [43., 47., 50., 55., 59.]])"
            ]
          },
          "metadata": {},
          "execution_count": 33
        }
      ]
    },
    {
      "cell_type": "code",
      "source": [
        "y=df.iloc[:,0].values\n",
        "y"
      ],
      "metadata": {
        "colab": {
          "base_uri": "https://localhost:8080/"
        },
        "id": "SILBqevrw-d6",
        "outputId": "8e64b9be-6116-493f-c63f-04078c51df14"
      },
      "execution_count": null,
      "outputs": [
        {
          "output_type": "execute_result",
          "data": {
            "text/plain": [
              "array(['Am', 'Amaj', 'A7', 'A7b9', 'A9', 'A11', 'A13', 'A69', 'Aadd9',\n",
              "       'Aaug', 'Ab6', 'Ab9', 'Ab11', 'Ab13', 'Ab69', 'Abaug', 'Abdim7',\n",
              "       'Abm', 'Abm9', 'Abm11', 'Abmaj9', 'Am6', 'Am7', 'Am9', 'Am11',\n",
              "       'Amaj7', 'Amaj9', 'Asus2', 'Asus4', 'A#', 'A#6', 'A7#5', 'A#9',\n",
              "       'A#11', 'A#13', 'A#69', 'A#add9', 'A#aug', 'A#m', 'A#m7', 'A#m11',\n",
              "       'A#maj', 'A#maj9', 'A#sus2', 'Bm', 'Bmaj', 'B7', 'B7b9', 'B9',\n",
              "       'B13', 'B69', 'Badd9', 'B7#5', 'Bb9', 'Bb11', 'Bb13', 'Bb69',\n",
              "       'Bbadd9', 'Bbaug', 'Bbdim7', 'Bbm', 'Bbm7', 'Bbm11', 'Bbmaj',\n",
              "       'Bbmaj9', 'Bm7', 'Bm7b5', 'Bm9', 'Bm11', 'Bmaj9', 'Cm', 'Cmaj',\n",
              "       'C6', 'C7', 'C7b9', 'C9', 'C11', 'C13', 'C69', 'Cadd9', 'Cm7',\n",
              "       'Cm9', 'Cmaj7', 'Cmaj9', 'C7#5', 'C#7b9', 'C#9', 'C#11', 'C#13',\n",
              "       'C#69', 'C#add9', 'C#m6', 'C#m7b5', 'C#m9', 'C#m11', 'C#maj7',\n",
              "       'C#maj9', 'D6', 'D7b9', 'D9', 'D11', 'D13', 'D69', 'Db6', 'Db7b9',\n",
              "       'Db9', 'Db11', 'Db13', 'Db69', 'Dbadd9', 'Dbaug', 'Dbdim7', 'Dbm6',\n",
              "       'Dbm7b5', 'Dbm9', 'Dbm11', 'Dbmaj7', 'Dbmaj9', 'Ddim7', 'Dm6',\n",
              "       'Dm11', 'Dmaj9', 'Dsus2', 'D#6', 'D#9', 'D#11', 'D#13', 'D#add9',\n",
              "       'D#aug', 'D#m9', 'D#m11', 'D#sus2', 'Em', 'Emaj', 'E7', 'E7b5',\n",
              "       'E7b9', 'E9', 'E11', 'E13', 'E69', 'Eadd9', 'Eb6', 'E7#5', 'Eb9',\n",
              "       'Eb11', 'Eb13', 'Ebadd9', 'Ebaug', 'Ebdim', 'Ebm9', 'Ebm11',\n",
              "       'Ebsus2', 'Edim7', 'Em6', 'Em7', 'Em9', 'Em11', 'Emaj7', 'Emaj9',\n",
              "       'Esus4', 'Fm', 'Fmaj', 'F7', 'F9', 'F11', 'F13', 'F69', 'Fadd9',\n",
              "       'Fdim7', 'Fm7', 'Fmaj7', 'Fmaj9', 'Fsus2', 'F#', 'F#7b9', 'F#9',\n",
              "       'F#11', 'F#13', 'F#69', 'F#add9', 'F#aug', 'F#m', 'F#m9', 'F#m11',\n",
              "       'F#maj', 'F7#5', 'Gm', 'Gmaj', 'G7', 'G7b9', 'G9', 'G11', 'G13',\n",
              "       'G69', 'Gadd9', 'Gb7b9', 'Gb9', 'Gb11', 'Gb13', 'Gb69', 'Gbadd9',\n",
              "       'Gbaug', 'Gbm', 'Gbm6', 'Gbm7b5', 'Gbm9', 'Gbm11', 'Gbmaj',\n",
              "       'Gdim7', 'G6', 'Gm7', 'Gm9', 'Gm11', 'Gmaj9', 'Gsus2', 'Gsus4',\n",
              "       'G#', 'G#9', 'G#11', 'G#13', 'G#69', 'G#aug', 'G#dim', 'G#m',\n",
              "       'G#m9', 'G#m11', 'G#maj', 'G#maj9', 'G7#5'], dtype=object)"
            ]
          },
          "metadata": {},
          "execution_count": 34
        }
      ]
    },
    {
      "cell_type": "code",
      "source": [
        "#5.TRAIN AND TEST VARIABLES\n",
        "from sklearn.model_selection import train_test_split\n",
        "x_train,x_test,y_train,y_test = train_test_split(x, y, random_state = 0)"
      ],
      "metadata": {
        "id": "JAMdgtUJxMtA"
      },
      "execution_count": null,
      "outputs": []
    },
    {
      "cell_type": "code",
      "source": [
        "#6.SCALING AND NORMALISATION"
      ],
      "metadata": {
        "id": "fIbuc4BaDnJt"
      },
      "execution_count": null,
      "outputs": []
    },
    {
      "cell_type": "code",
      "source": [
        "#7.RUN THE REGRESSOR\n",
        "from sklearn.linear_model import LogisticRegression\n",
        "model = LogisticRegression()"
      ],
      "metadata": {
        "id": "u9vu9rugDr4O"
      },
      "execution_count": null,
      "outputs": []
    },
    {
      "cell_type": "code",
      "source": [
        "#8.FIT THE MODEL\n",
        "model.fit(x_train, y_train)"
      ],
      "metadata": {
        "colab": {
          "base_uri": "https://localhost:8080/",
          "height": 213
        },
        "id": "LfOsu5dvyCa9",
        "outputId": "23625717-7e9e-487b-a58f-a924f16c2e5f"
      },
      "execution_count": null,
      "outputs": [
        {
          "output_type": "stream",
          "name": "stderr",
          "text": [
            "/usr/local/lib/python3.9/dist-packages/sklearn/linear_model/_logistic.py:458: ConvergenceWarning: lbfgs failed to converge (status=1):\n",
            "STOP: TOTAL NO. of ITERATIONS REACHED LIMIT.\n",
            "\n",
            "Increase the number of iterations (max_iter) or scale the data as shown in:\n",
            "    https://scikit-learn.org/stable/modules/preprocessing.html\n",
            "Please also refer to the documentation for alternative solver options:\n",
            "    https://scikit-learn.org/stable/modules/linear_model.html#logistic-regression\n",
            "  n_iter_i = _check_optimize_result(\n"
          ]
        },
        {
          "output_type": "execute_result",
          "data": {
            "text/plain": [
              "LogisticRegression()"
            ],
            "text/html": [
              "<style>#sk-container-id-4 {color: black;background-color: white;}#sk-container-id-4 pre{padding: 0;}#sk-container-id-4 div.sk-toggleable {background-color: white;}#sk-container-id-4 label.sk-toggleable__label {cursor: pointer;display: block;width: 100%;margin-bottom: 0;padding: 0.3em;box-sizing: border-box;text-align: center;}#sk-container-id-4 label.sk-toggleable__label-arrow:before {content: \"▸\";float: left;margin-right: 0.25em;color: #696969;}#sk-container-id-4 label.sk-toggleable__label-arrow:hover:before {color: black;}#sk-container-id-4 div.sk-estimator:hover label.sk-toggleable__label-arrow:before {color: black;}#sk-container-id-4 div.sk-toggleable__content {max-height: 0;max-width: 0;overflow: hidden;text-align: left;background-color: #f0f8ff;}#sk-container-id-4 div.sk-toggleable__content pre {margin: 0.2em;color: black;border-radius: 0.25em;background-color: #f0f8ff;}#sk-container-id-4 input.sk-toggleable__control:checked~div.sk-toggleable__content {max-height: 200px;max-width: 100%;overflow: auto;}#sk-container-id-4 input.sk-toggleable__control:checked~label.sk-toggleable__label-arrow:before {content: \"▾\";}#sk-container-id-4 div.sk-estimator input.sk-toggleable__control:checked~label.sk-toggleable__label {background-color: #d4ebff;}#sk-container-id-4 div.sk-label input.sk-toggleable__control:checked~label.sk-toggleable__label {background-color: #d4ebff;}#sk-container-id-4 input.sk-hidden--visually {border: 0;clip: rect(1px 1px 1px 1px);clip: rect(1px, 1px, 1px, 1px);height: 1px;margin: -1px;overflow: hidden;padding: 0;position: absolute;width: 1px;}#sk-container-id-4 div.sk-estimator {font-family: monospace;background-color: #f0f8ff;border: 1px dotted black;border-radius: 0.25em;box-sizing: border-box;margin-bottom: 0.5em;}#sk-container-id-4 div.sk-estimator:hover {background-color: #d4ebff;}#sk-container-id-4 div.sk-parallel-item::after {content: \"\";width: 100%;border-bottom: 1px solid gray;flex-grow: 1;}#sk-container-id-4 div.sk-label:hover label.sk-toggleable__label {background-color: #d4ebff;}#sk-container-id-4 div.sk-serial::before {content: \"\";position: absolute;border-left: 1px solid gray;box-sizing: border-box;top: 0;bottom: 0;left: 50%;z-index: 0;}#sk-container-id-4 div.sk-serial {display: flex;flex-direction: column;align-items: center;background-color: white;padding-right: 0.2em;padding-left: 0.2em;position: relative;}#sk-container-id-4 div.sk-item {position: relative;z-index: 1;}#sk-container-id-4 div.sk-parallel {display: flex;align-items: stretch;justify-content: center;background-color: white;position: relative;}#sk-container-id-4 div.sk-item::before, #sk-container-id-4 div.sk-parallel-item::before {content: \"\";position: absolute;border-left: 1px solid gray;box-sizing: border-box;top: 0;bottom: 0;left: 50%;z-index: -1;}#sk-container-id-4 div.sk-parallel-item {display: flex;flex-direction: column;z-index: 1;position: relative;background-color: white;}#sk-container-id-4 div.sk-parallel-item:first-child::after {align-self: flex-end;width: 50%;}#sk-container-id-4 div.sk-parallel-item:last-child::after {align-self: flex-start;width: 50%;}#sk-container-id-4 div.sk-parallel-item:only-child::after {width: 0;}#sk-container-id-4 div.sk-dashed-wrapped {border: 1px dashed gray;margin: 0 0.4em 0.5em 0.4em;box-sizing: border-box;padding-bottom: 0.4em;background-color: white;}#sk-container-id-4 div.sk-label label {font-family: monospace;font-weight: bold;display: inline-block;line-height: 1.2em;}#sk-container-id-4 div.sk-label-container {text-align: center;}#sk-container-id-4 div.sk-container {/* jupyter's `normalize.less` sets `[hidden] { display: none; }` but bootstrap.min.css set `[hidden] { display: none !important; }` so we also need the `!important` here to be able to override the default hidden behavior on the sphinx rendered scikit-learn.org. See: https://github.com/scikit-learn/scikit-learn/issues/21755 */display: inline-block !important;position: relative;}#sk-container-id-4 div.sk-text-repr-fallback {display: none;}</style><div id=\"sk-container-id-4\" class=\"sk-top-container\"><div class=\"sk-text-repr-fallback\"><pre>LogisticRegression()</pre><b>In a Jupyter environment, please rerun this cell to show the HTML representation or trust the notebook. <br />On GitHub, the HTML representation is unable to render, please try loading this page with nbviewer.org.</b></div><div class=\"sk-container\" hidden><div class=\"sk-item\"><div class=\"sk-estimator sk-toggleable\"><input class=\"sk-toggleable__control sk-hidden--visually\" id=\"sk-estimator-id-4\" type=\"checkbox\" checked><label for=\"sk-estimator-id-4\" class=\"sk-toggleable__label sk-toggleable__label-arrow\">LogisticRegression</label><div class=\"sk-toggleable__content\"><pre>LogisticRegression()</pre></div></div></div></div></div>"
            ]
          },
          "metadata": {},
          "execution_count": 38
        }
      ]
    },
    {
      "cell_type": "code",
      "source": [
        "#9.PREDICT THE OUTPUT\n",
        "y_pred=model.predict(x_test)\n",
        "y_pred"
      ],
      "metadata": {
        "colab": {
          "base_uri": "https://localhost:8080/"
        },
        "id": "kS5i22uVyJvB",
        "outputId": "005a74bb-6735-475c-dfe6-e80df6234133"
      },
      "execution_count": null,
      "outputs": [
        {
          "output_type": "execute_result",
          "data": {
            "text/plain": [
              "array(['Gb13', 'Gadd9', 'D#sus2', 'Em11', 'Fadd9', 'Dmaj9', 'Asus4', 'E9',\n",
              "       'D#13', 'Gb13', 'D11', 'E9', 'B13', 'C#9', 'Bbadd9', 'Gsus2',\n",
              "       'C#13', 'Dm11', 'C#9', 'A13', 'Bb11', 'D69', 'Gsus4', 'C13',\n",
              "       'C#add9', 'Bmaj', 'E9', 'Bbaug', 'F#11', 'Am9', 'Gadd9', 'Em11',\n",
              "       'Cadd9', 'A#13', 'Cadd9', 'Am11', 'Fadd9', 'Bbaug', 'D#13',\n",
              "       'Amaj9', 'F#m9', 'D69', 'D#13', 'Am9', 'Am9', 'Fadd9', 'D11',\n",
              "       'Dbmaj7', 'Am9', 'C6', 'D11', 'D#sus2', 'F#7b9', 'E9', 'Dbm6',\n",
              "       'Bbm11', 'Bbm', 'Fadd9'], dtype=object)"
            ]
          },
          "metadata": {},
          "execution_count": 39
        }
      ]
    },
    {
      "cell_type": "code",
      "source": [
        "y_test"
      ],
      "metadata": {
        "colab": {
          "base_uri": "https://localhost:8080/"
        },
        "id": "62sHWUVR0dSH",
        "outputId": "eca0e977-928a-41bf-d4ed-b1fffd542bbf"
      },
      "execution_count": null,
      "outputs": [
        {
          "output_type": "execute_result",
          "data": {
            "text/plain": [
              "array(['E13', 'Gbadd9', 'Dsus2', 'F7#5', 'Eadd9', 'C#maj9', 'G#', 'C9',\n",
              "       'G#69', 'Fm7', 'Eb11', 'Dbdim7', 'Bbmaj9', 'Aadd9', 'D#m9', 'E11',\n",
              "       'D13', 'A11', 'Bm', 'Emaj9', 'F#13', 'Db69', 'Gbmaj', 'Gm9',\n",
              "       'Dbadd9', 'Bbmaj', 'Edim7', 'A#aug', 'Ab11', 'E7#5', 'F#add9',\n",
              "       'E7b9', 'G7b9', 'Bb13', 'C#m7b5', 'Abm9', 'Abaug', 'F#aug', 'A69',\n",
              "       'D6', 'Gbm9', 'C#69', 'Eb13', 'E7', 'G6', 'Gbm', 'A#11', 'Cmaj',\n",
              "       'Em6', 'Gbm7b5', 'Db11', 'Ebdim', 'Gb7b9', 'C11', 'Abdim7', 'E7b5',\n",
              "       'Dbaug', 'Fm'], dtype=object)"
            ]
          },
          "metadata": {},
          "execution_count": 40
        }
      ]
    }
  ]
}